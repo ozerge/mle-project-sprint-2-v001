{
 "cells": [
  {
   "cell_type": "code",
   "execution_count": 9,
   "id": "6c271e16",
   "metadata": {},
   "outputs": [],
   "source": [
    "import joblib\n",
    "import json\n",
    "import os\n",
    "\n",
    "import mlflow\n",
    "import pandas as pd"
   ]
  },
  {
   "cell_type": "code",
   "execution_count": 16,
   "id": "5617fa86",
   "metadata": {},
   "outputs": [],
   "source": [
    "# Loading the trained model\n",
    "with open(\"model/fitted_model_cbr_l.pkl\", \"rb\") as fd:\n",
    "    model = joblib.load(fd)  # Эта строка внутри блока with (имеет отступ)\n",
    "\n",
    "# Retrieving Catboost model parameters (без отступа, так как это уже вне блока with)\n",
    "model_params = model[\"model\"].get_params()"
   ]
  },
  {
   "cell_type": "code",
   "execution_count": 17,
   "id": "103c1963",
   "metadata": {},
   "outputs": [
    {
     "data": {
      "text/plain": [
       "{'loss_function': 'RMSE',\n",
       " 'random_seed': 42,\n",
       " 'verbose': 100,\n",
       " 'cat_features': [11, 12, 13]}"
      ]
     },
     "execution_count": 17,
     "metadata": {},
     "output_type": "execute_result"
    }
   ],
   "source": [
    "model_params"
   ]
  },
  {
   "cell_type": "code",
   "execution_count": 18,
   "id": "3458c533",
   "metadata": {},
   "outputs": [],
   "source": [
    "with open(\"metrics/eval_results_cbr_l.json\") as json_file:\n",
    "        metrics = json.load(json_file)"
   ]
  },
  {
   "cell_type": "code",
   "execution_count": 19,
   "id": "6c1f7da5",
   "metadata": {},
   "outputs": [
    {
     "data": {
      "text/plain": [
       "{'r2_score': 0.7007744928684252,\n",
       " 'rmse': 2462549.744002088,\n",
       " 'mae': 1873492.8414151592,\n",
       " 'mape': 1.470389120444638}"
      ]
     },
     "execution_count": 19,
     "metadata": {},
     "output_type": "execute_result"
    }
   ],
   "source": [
    "metrics"
   ]
  }
 ],
 "metadata": {
  "kernelspec": {
   "display_name": ".venv_project_name",
   "language": "python",
   "name": "python3"
  },
  "language_info": {
   "codemirror_mode": {
    "name": "ipython",
    "version": 3
   },
   "file_extension": ".py",
   "mimetype": "text/x-python",
   "name": "python",
   "nbconvert_exporter": "python",
   "pygments_lexer": "ipython3",
   "version": "3.10.12"
  }
 },
 "nbformat": 4,
 "nbformat_minor": 5
}
