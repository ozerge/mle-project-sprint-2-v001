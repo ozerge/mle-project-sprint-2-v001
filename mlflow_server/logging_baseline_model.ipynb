{
 "cells": [
  {
   "cell_type": "code",
   "execution_count": 1,
   "id": "53e85530",
   "metadata": {},
   "outputs": [],
   "source": [
    "import joblib\n",
    "import json\n",
    "import os\n",
    "\n",
    "import mlflow\n",
    "import pandas as pd\n",
    "\n",
    "EXPERIMENT_NAME = \"ozerge_PROJECT_SPRINT_2\"\n",
    "RUN_NAME = \"logging_baseline_model\"\n",
    "TRACKING_SERVER_HOST = \"127.0.0.1\"\n",
    "TRACKING_SERVER_PORT = 5000\n",
    "REGISTRY_MODEL_NAME = \"baseline_model\"\n",
    "\n",
    "os.environ[\"MLFLOW_S3_ENDPOINT_URL\"] = \"https://storage.yandexcloud.net\"\n",
    "os.environ[\"AWS_ACCESS_KEY_ID\"] = os.getenv(\"AWS_ACCESS_KEY_ID\")\n",
    "os.environ[\"AWS_SECRET_ACCESS_KEY\"] = os.getenv(\"AWS_SECRET_ACCESS_KEY\")\n",
    "\n",
    "mlflow.set_tracking_uri(f\"http://{TRACKING_SERVER_HOST}:{TRACKING_SERVER_PORT}\")\n",
    "mlflow.set_registry_uri(f\"http://{TRACKING_SERVER_HOST}:{TRACKING_SERVER_PORT}\")"
   ]
  },
  {
   "cell_type": "code",
   "execution_count": 2,
   "id": "7388a60b",
   "metadata": {},
   "outputs": [
    {
     "name": "stderr",
     "output_type": "stream",
     "text": [
      "/home/mle-user/mle_projects/mle-project-sprint-2-v001/.venv_project_name/lib/python3.10/site-packages/sklearn/base.py:348: InconsistentVersionWarning: Trying to unpickle estimator SimpleImputer from version 1.4.1.post1 when using version 1.3.1. This might lead to breaking code or invalid results. Use at your own risk. For more info please refer to:\n",
      "https://scikit-learn.org/stable/model_persistence.html#security-maintainability-limitations\n",
      "  warnings.warn(\n",
      "/home/mle-user/mle_projects/mle-project-sprint-2-v001/.venv_project_name/lib/python3.10/site-packages/sklearn/base.py:348: InconsistentVersionWarning: Trying to unpickle estimator StandardScaler from version 1.4.1.post1 when using version 1.3.1. This might lead to breaking code or invalid results. Use at your own risk. For more info please refer to:\n",
      "https://scikit-learn.org/stable/model_persistence.html#security-maintainability-limitations\n",
      "  warnings.warn(\n",
      "/home/mle-user/mle_projects/mle-project-sprint-2-v001/.venv_project_name/lib/python3.10/site-packages/sklearn/base.py:348: InconsistentVersionWarning: Trying to unpickle estimator Pipeline from version 1.4.1.post1 when using version 1.3.1. This might lead to breaking code or invalid results. Use at your own risk. For more info please refer to:\n",
      "https://scikit-learn.org/stable/model_persistence.html#security-maintainability-limitations\n",
      "  warnings.warn(\n",
      "/home/mle-user/mle_projects/mle-project-sprint-2-v001/.venv_project_name/lib/python3.10/site-packages/sklearn/base.py:348: InconsistentVersionWarning: Trying to unpickle estimator FunctionTransformer from version 1.4.1.post1 when using version 1.3.1. This might lead to breaking code or invalid results. Use at your own risk. For more info please refer to:\n",
      "https://scikit-learn.org/stable/model_persistence.html#security-maintainability-limitations\n",
      "  warnings.warn(\n",
      "/home/mle-user/mle_projects/mle-project-sprint-2-v001/.venv_project_name/lib/python3.10/site-packages/sklearn/base.py:348: InconsistentVersionWarning: Trying to unpickle estimator ColumnTransformer from version 1.4.1.post1 when using version 1.3.1. This might lead to breaking code or invalid results. Use at your own risk. For more info please refer to:\n",
      "https://scikit-learn.org/stable/model_persistence.html#security-maintainability-limitations\n",
      "  warnings.warn(\n",
      "Successfully registered model 'baseline_model'.\n",
      "2025/07/14 10:58:50 INFO mlflow.tracking._model_registry.client: Waiting up to 60 seconds for model version to finish creation. Model name: baseline_model, version 1\n",
      "Created version '1' of model 'baseline_model'.\n"
     ]
    }
   ],
   "source": [
    "def log_model() -> str:\n",
    "    \"\"\"Логирование baseline модели в Mlflow.\"\"\"\n",
    "\n",
    "    #run_id = None  # Инициализируем переменную\n",
    "\n",
    "    # Загрузка метрик\n",
    "    with open(\"metrics/eval_results_cbr_l.json\") as json_file:\n",
    "        metrics = json.load(json_file)\n",
    "\n",
    "    # Загрузка обученной модели\n",
    "    with open(\"model/fitted_model_cbr_l.pkl\", \"rb\") as fd:\n",
    "        model = joblib.load(fd)\n",
    "\n",
    "    # Получение параметров CatBoost модели\n",
    "    model_params = model[\"model\"].get_params()\n",
    "\n",
    "    # Загрузка изначального датасета\n",
    "    data = pd.read_csv(\"data/initial_data.csv\")\n",
    "\n",
    "    # Создание/использование существующего MLflow-эксперимента\n",
    "    experiment = mlflow.get_experiment_by_name(EXPERIMENT_NAME)\n",
    "    if not experiment:\n",
    "        experiment_id = mlflow.create_experiment(EXPERIMENT_NAME)\n",
    "    else:\n",
    "        experiment_id = experiment.experiment_id\n",
    "\n",
    "    # Детали модели\n",
    "    pip_requirements = \"./requirements_bm.txt\"\n",
    "\n",
    "    # Инициализация процедуры логирования\n",
    "    with mlflow.start_run(run_name=RUN_NAME, experiment_id=experiment_id) as run:\n",
    "        run_id = run.info.run_id\n",
    "\n",
    "        mlflow.set_tags({\n",
    "        \"model_type\": \"CatBoostRegressor\",\n",
    "        \"data_version\": \"2024-07-14\",\n",
    "        \"preprocessing\": \"v2\"})\n",
    "\n",
    "        # Logging training data\n",
    "        mlflow.log_artifact(\"data/initial_data.csv\", \"dataframe\")\n",
    "\n",
    "        # Logging metrics from CV-results\n",
    "        mlflow.log_metrics(metrics)\n",
    "\n",
    "        # Logging model parameters\n",
    "        mlflow.log_params(model_params)\n",
    "\n",
    "        # Registering the model in Mlflow Registry\n",
    "        model_info = mlflow.sklearn.log_model(\n",
    "            registered_model_name=REGISTRY_MODEL_NAME,\n",
    "            sk_model=model,\n",
    "            pip_requirements=pip_requirements,\n",
    "            #signature=signature,\n",
    "            #input_example=input_example,\n",
    "            await_registration_for=60,\n",
    "            artifact_path=\"models\",\n",
    "        )\n",
    "\n",
    "    return run_id, experiment_id\n",
    "if __name__ == \"__main__\":\n",
    "    run_id, experiment_id = log_model()"
   ]
  },
  {
   "cell_type": "code",
   "execution_count": 3,
   "id": "6e0330c2",
   "metadata": {},
   "outputs": [
    {
     "name": "stdout",
     "output_type": "stream",
     "text": [
      "EXPERIMENT_NAME:  ozerge_PROJECT_SPRINT_2\n",
      "experiment_id:  31\n",
      "run_id:  6c9b3f1eddaa4ec4ace99d1f56903966\n"
     ]
    }
   ],
   "source": [
    "run = mlflow.get_run(run_id) # ваш код здесь\n",
    "\n",
    "print(\"EXPERIMENT_NAME: \", EXPERIMENT_NAME)\n",
    "print(\"experiment_id: \", experiment_id)\n",
    "print(\"run_id: \", run_id)"
   ]
  }
 ],
 "metadata": {
  "kernelspec": {
   "display_name": ".venv_project_name",
   "language": "python",
   "name": "python3"
  },
  "language_info": {
   "codemirror_mode": {
    "name": "ipython",
    "version": 3
   },
   "file_extension": ".py",
   "mimetype": "text/x-python",
   "name": "python",
   "nbconvert_exporter": "python",
   "pygments_lexer": "ipython3",
   "version": "3.10.12"
  }
 },
 "nbformat": 4,
 "nbformat_minor": 5
}
